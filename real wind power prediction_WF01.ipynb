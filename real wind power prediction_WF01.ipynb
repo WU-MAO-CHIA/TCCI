{
 "cells": [
  {
   "cell_type": "markdown",
   "id": "6b81e49c-debb-475b-9993-a7ed0168b703",
   "metadata": {
    "tags": []
   },
   "source": [
    "## Wind power prediction\n",
    "### 流程\n",
    "1. 先從 SQL 下載 WF01 的風機資料從 20210801~20220731\n",
    "2. 製造出剛好在時間間隔上的時間戳記，並補足缺的時間點，和刪除重複或小於時間間隔的資料\n",
    "3. 針對不同 DCS#LINE and DCS#TAGCD 切出 116 個 features\n",
    "4. 製造 Label，和先刪除對 label 不合理的資料\n",
    "5. 使用移動平均補通訊異常值\n",
    "6. 對 label 做 時間序列檢定，和畫 ACF and PACF 決定下一步要製造 lag幾期的 features\n",
    "7. 製造出 t-1 ~ t-6，的 features 並移除除了 t 時點的 features\n",
    "8. 選取和 label 相關係數前 20 高的當成 model 的 features\n",
    "9. 針對上一步所選取的 features 做 EDA\n",
    "10. 隨機切分 train set and test set, test_size= 0.2\n",
    "11. 訓練模型(XGBoost, Random Forest, SVM, Ridge, Bayian regression)\n",
    "12. hyperparameter fintuning\n",
    "13. Emndeeing Method"
   ]
  },
  {
   "cell_type": "code",
   "execution_count": null,
   "id": "6417c0e8-c011-4934-b202-048a963232e9",
   "metadata": {},
   "outputs": [],
   "source": [
    "import pandas as pd\n",
    "import numpy as np\n",
    "import seaborn as sns\n",
    "import matplotlib.pyplot as plt\n",
    "import pymssql\n",
    "import datetime \n",
    "from datetime import timedelta\n",
    "from statsmodels.tsa.stattools import adfuller\n",
    "import statsmodels.api as sm\n",
    "import statsmodels.tsa as ts\n",
    "from sklearn.preprocessing import StandardScaler\n",
    "from sklearn.linear_model import LassoCV, Ridge, BayesianRidge\n",
    "from sklearn.model_selection import cross_val_score, GridSearchCV, RandomizedSearchCV, train_test_split\n",
    "from sklearn.metrics import mean_squared_error, mean_absolute_error, make_scorer, r2_score\n",
    "from xgboost import XGBRegressor\n",
    "from sklearn.tree import DecisionTreeRegressor\n",
    "from sklearn.ensemble import RandomForestRegressor, VotingRegressor, StackingRegressor, BaggingRegressor\n",
    "from scipy.stats import uniform, randint\n",
    "from sklearn.svm import SVR\n",
    "from sklearn.neural_network import MLPRegressor\n",
    "import warnings\n",
    "warnings.simplefilter(action='ignore', category=FutureWarning)"
   ]
  },
  {
   "cell_type": "markdown",
   "id": "e8069076-545c-4143-bd30-22a400539807",
   "metadata": {
    "tags": []
   },
   "source": [
    "### 從 SQL 下載 WF01 的風機資料從 20210801~20220731"
   ]
  },
  {
   "cell_type": "code",
   "execution_count": null,
   "id": "1039a245-9c36-4666-b8b2-55ed088513e4",
   "metadata": {},
   "outputs": [],
   "source": [
    "conn = pymssql.connect(\n",
    "    host= '192.168.204.14',\n",
    "    user = 'sa',\n",
    "    password = '!qaz2wsx',\n",
    "    database = 'TGEC_OPC_DATA_2021'\n",
    ")\n",
    "cursor = conn.cursor()"
   ]
  },
  {
   "cell_type": "code",
   "execution_count": null,
   "id": "8974393d-7ca4-4823-8fae-aabef466dc8c",
   "metadata": {},
   "outputs": [],
   "source": [
    "columns = ['DCS#PLANT', 'DCS#LINE', 'DCS#TAGCD', 'DCS#VALUE', 'DCS#DATETIME', 'YMD', 'HH', 'MI']\n",
    "sql = \"SELECT * from  DCS_DATA WHERE DCS#LINE like 'WF01%' AND YMD>= 20210801 AND YMD<=20211231\"\n",
    "cursor.execute(sql)\n",
    "row = cursor.fetchall()\n",
    "data_2021 = pd.DataFrame(row, columns= columns)"
   ]
  },
  {
   "cell_type": "code",
   "execution_count": null,
   "id": "91435e20-9906-4475-aba8-b71dcc61a9f0",
   "metadata": {},
   "outputs": [],
   "source": [
    "conn = pymssql.connect(\n",
    "    host= '192.168.204.14',\n",
    "    user = 'sa',\n",
    "    password = '!qaz2wsx',\n",
    "    database = 'TGEC_OPC_DATA_History'\n",
    ")\n",
    "cursor = conn.cursor()"
   ]
  },
  {
   "cell_type": "code",
   "execution_count": null,
   "id": "426e8f00-d5a5-4f58-b9f7-832602bd2ee6",
   "metadata": {},
   "outputs": [],
   "source": [
    "columns = ['DCS#PLANT', 'DCS#LINE', 'DCS#TAGCD', 'DCS#VALUE', 'DCS#DATETIME', 'YMD', 'HH', 'MI']\n",
    "sql = \"SELECT * from  DCS_DATA WHERE DCS#LINE like 'WF01%' AND YMD>= 20220101 AND YMD<= 20220731\"\n",
    "cursor.execute(sql)\n",
    "row = cursor.fetchall()\n",
    "data_2022 = pd.DataFrame(row, columns= columns)"
   ]
  },
  {
   "cell_type": "markdown",
   "id": "c4232958-5304-4c5c-bc85-924429fdf730",
   "metadata": {},
   "source": [
    "### 製造出沒有秒數的時間戳記\n",
    "原始的時間可能會多個幾秒，在對時間比較麻煩，但 raw data 有提供 剛好在時間間隔上的時間，不過 type 是文字，將其合併轉成時間類型(datetime)，取代原始 DCS#DATETIME"
   ]
  },
  {
   "cell_type": "code",
   "execution_count": null,
   "id": "bfdc04dd-691f-4fb4-b705-1711f4ded688",
   "metadata": {},
   "outputs": [],
   "source": [
    "ALL = pd.concat([data_2021, data_2022], axis= 0)\n",
    "ALL = ALL.sort_values(by= ['DCS#LINE', 'DCS#TAGCD', 'DCS#DATETIME'])\n",
    "ALL['datetime'] = pd.to_datetime(ALL['YMD'] + ALL['HH'] + ALL['MI'], format= '%Y%m%d%H%M')\n",
    "ALL['DCS#VALUE'] = ALL['DCS#VALUE'].astype(float)\n",
    "ALL.info()"
   ]
  },
  {
   "cell_type": "code",
   "execution_count": null,
   "id": "636db19a-380e-4cd7-ada8-3db102b9fca3",
   "metadata": {},
   "outputs": [],
   "source": [
    "ALL.shape"
   ]
  },
  {
   "cell_type": "markdown",
   "id": "70dea491-540f-4e31-93eb-a078b2329658",
   "metadata": {},
   "source": [
    "### 補足缺的時間點，和刪除重複或小於時間間隔的資料，並從 DCS#LINE and DCS#TAGCD 切出 116 個 features\n",
    "總共的 features 可以切成 7 大類，116個"
   ]
  },
  {
   "cell_type": "code",
   "execution_count": null,
   "id": "d8cb6629-cc75-4f89-a8fa-f7b3a9611bb9",
   "metadata": {
    "scrolled": true,
    "tags": []
   },
   "outputs": [],
   "source": [
    "ALL_fill_missing_time = pd.DataFrame()\n",
    "for name in ALL['DCS#LINE'].unique():\n",
    "    tmp = ALL[ALL['DCS#LINE']== name] #分出7大類\n",
    "    #print(name)\n",
    "    for tag in tmp['DCS#TAGCD'].unique(): #對每一類的 features做處理\n",
    "        print(tag)\n",
    "        tmp1 = tmp[tmp['DCS#TAGCD']== tag][['DCS#VALUE', 'datetime']]\n",
    "        tmp1.reset_index(inplace= True, drop= True)\n",
    "        start_end_time = pd.DataFrame(data={                # 設定資料開始跟結束的時間\n",
    "                        'DCS#VALUE' : [np.nan, np.nan],\n",
    "                        'datetime' : ['2021-08-01 00:00', '2022-07-31 23:55']\n",
    "                })\n",
    "        start_end_time = pd.to_datetime(start_end_time['datetime'], format= '%Y-%m-%d %H:%M').to_frame()\n",
    "        tmp1 = pd.concat([start_end_time, tmp1], axis= 0, ignore_index= True)\n",
    "        tmp1 = tmp1.sort_values(by= 'datetime').reset_index(drop= True)\n",
    "        \n",
    "        missing_time = pd.DataFrame(columns= ['Differ', 'previous time', 'least time']) #儲存缺的時間上下兩個時間點\n",
    "        redundant_time = pd.DataFrame(columns= ['t', 't-1']) #儲存重複或小於時間間隔上下兩個時間點\n",
    "        insert_time = pd.DataFrame(columns= ['DCS#VALUE', 'datetime']) # 補足缺失的時間點\n",
    "        \n",
    "        tmp2 = tmp1\n",
    "        for i in range(1, len(tmp1)):\n",
    "            diff = tmp1['datetime'][i] - tmp1['datetime'][i-1]\n",
    "            if diff < timedelta(minutes= 5): #小於時間間隔的日期\n",
    "                redundant_time = redundant_time.append({'t': tmp1['datetime'][i], 't-1': tmp1['datetime'][i-1]}, ignore_index= True)\n",
    "                tmp2 = tmp1.drop(index= i)\n",
    "            \n",
    "            elif diff > timedelta(minutes= 5): #大於時間間隔的日期，代表中間有缺時間\n",
    "                missing_time = missing_time.append({'Differ': diff, 'previous time': tmp1['datetime'][i-1], 'least time': tmp1['datetime'][i]}, ignore_index= True)\n",
    "                #display(missing_time)\n",
    "                insert = tmp1['datetime'][i-1]\n",
    "                \n",
    "                while diff > timedelta(minutes= 5): #補缺的時間，正確的間隔是 5 分鐘，所以每次補一個時間點後 diff 會減少 5 分鐘\n",
    "                    insert += timedelta(minutes= 5)\n",
    "                    diff -= timedelta(minutes= 5)\n",
    "                    #print(f'diff: {diff}, insert: {insert}')\n",
    "                    time = pd.DataFrame({'datetime': [insert], 'DCS#VALUE': [np.nan]})\n",
    "                    insert_time = insert_time.append(time, ignore_index= True)\n",
    "        \n",
    "        tmp3 = pd.concat([insert_time, tmp2], ignore_index= True)\n",
    "        tmp3 = tmp3.sort_values(by= 'datetime').reset_index(drop= True)\n",
    "        tmp3 = tmp3.drop_duplicates(subset= ['datetime'], ignore_index= True)\n",
    "        ALL_fill_missing_time = pd.concat([ALL_fill_missing_time, tmp3], axis= 1)\n",
    "        ALL_fill_missing_time.rename(columns= {'DCS#VALUE' : str(name + '_' + tag), 'datetime' : str(tag + '_time')}, inplace= True)\n",
    "        #display(insert_time)\n",
    "#只留一個時間\n",
    "time = ALL_fill_missing_time.iloc[:, 1].rename('datetime')\n",
    "ALL_fill_missing_time = ALL_fill_missing_time.iloc[:, [i%2==0 for i in range(0, len(new.columns))]] #奇數 columns 是放 values，偶數 columns 是放 datetime\n",
    "ALL_fill_missing_time = pd.concat([ALL_fill_missing_time, time], axis= 1)\n",
    "ALL_fill_missing_time.shape"
   ]
  },
  {
   "cell_type": "markdown",
   "id": "e57b006b-8451-4def-b116-0c726d3dd58e",
   "metadata": {},
   "source": [
    "### 製造 Label，和先矯正對 label 不合理的資料\n",
    "TotalActivePower 是累積發電量，所以要自己扣上個時間點，才會是這段時間的發電量，WF01_COUNTER_TotalActivePowerGen 也是同理\n",
    "因為風機本身也需要電力，所以相減後可能會出現負值，因為是預測發電量，所以將負值都視為沒發電，用0取代"
   ]
  },
  {
   "cell_type": "code",
   "execution_count": null,
   "id": "6722148e-951b-4c16-9d1b-3403facadbf1",
   "metadata": {},
   "outputs": [],
   "source": [
    "diff1 = ALL_fill_missing_time['WF01_COUNTER_TotalActivePower']\n",
    "diff1 = diff1.rename('WF01_ActivePower')\n",
    "diff1 = diff1.diff()\n",
    "ALL_fill_missing_time = pd.concat([ALL_fill_missing_time, diff1], axis=1)\n",
    "\n",
    "diff1 = ALL_fill_missing_time['WF01_COUNTER_TotalActivePowerGen']\n",
    "diff1 = diff1.rename('WF01_TotalActivePowerGen')\n",
    "diff1 = diff1.diff()\n",
    "ALL_fill_missing_time = pd.concat([ALL_fill_missing_time, diff1], axis=1)"
   ]
  },
  {
   "cell_type": "code",
   "execution_count": null,
   "id": "d66889e7-2cd9-4903-8fb6-2e368efca789",
   "metadata": {},
   "outputs": [],
   "source": [
    "ALL_fill_missing_time.loc[ALL_fill_missing_time.WF01_ActivePower< 0, ['WF01_ActivePower']] = 0\n",
    "ALL_fill_missing_time.loc[ALL_fill_missing_time.WF01_TotalActivePowerGen< 0, ['WF01_TotalActivePowerGen']] = 0\n",
    "ALL_with_label = ALL_fill_missing_time.reset_index(drop= True)"
   ]
  },
  {
   "cell_type": "markdown",
   "id": "87b8eabc-5f79-45dd-a5c4-cd64376d36e5",
   "metadata": {},
   "source": [
    "### 使用移動平均補通訊異常值(-1000 and NaN)\n",
    "移動平均 window=6，過去 30 分鐘的平均補， '2021-08-03 15:30:00' 前面多是通訊異常，所以先刪除再補"
   ]
  },
  {
   "cell_type": "code",
   "execution_count": null,
   "id": "da1fc68f-12f2-4d19-a851-c3f6e7124f7a",
   "metadata": {},
   "outputs": [],
   "source": [
    "ALL_with_label = ALL_with_label[ALL_with_label.datetime>= '2021-08-03 15:30:00'].reset_index(drop= True)\n",
    "ALL_with_label.shape"
   ]
  },
  {
   "cell_type": "code",
   "execution_count": null,
   "id": "bd73cbe7-d7a0-40fd-b0f4-23ec70a51c78",
   "metadata": {
    "scrolled": true,
    "tags": []
   },
   "outputs": [],
   "source": [
    "for label in ALL_with_label.columns.drop('datetime'):\n",
    "    tmp = ALL_with_label[label].to_numpy()\n",
    "    print(f'{label}')\n",
    "    for i in range(6, len(new1)):\n",
    "        if np.isnan(ALL_with_label[label][i]) or (ALL_with_label[label][i]== -1000):\n",
    "            tmp[i] = np.mean(tmp[i- 6:i])\n",
    "    ALL_with_label[label] = tmp"
   ]
  },
  {
   "cell_type": "markdown",
   "id": "3bd56876-a60f-4aa3-9b18-7b9ec45c6554",
   "metadata": {
    "jp-MarkdownHeadingCollapsed": true,
    "tags": []
   },
   "source": [
    "### 對 label 做 時間序列檢定，和畫 ACF and PACF 決定下一步要製造 lag幾期的 features對 label 做 時間序列檢定，和畫 ACF and PACF 決定下一步要製造 lag幾期的 features"
   ]
  },
  {
   "cell_type": "code",
   "execution_count": null,
   "id": "c15a67b4-e50f-4a21-bd32-ae5de97eb4f7",
   "metadata": {},
   "outputs": [],
   "source": [
    "def adfuller_test(Power):\n",
    "    result = adfuller(Power)\n",
    "    labels = ['ADF Test Statistic','p-value','#Lags Used','Number of Observations Used']\n",
    "    for value, label in zip(result,labels):\n",
    "        print(label+' : '+str(value) )\n",
    "    if result[1] <= 0.05:\n",
    "        print(\"strong evidence against the null hypothesis(Ho), reject the null hypothesis. Data has no unit root and is stationary\")\n",
    "    else:\n",
    "        print(\"weak evidence against null hypothesis, time series has a unit root, indicating it is non-stationary \")\n",
    "        \n",
    "adfuller_test(ALL_with_label['WF01_ActivePower'])"
   ]
  },
  {
   "cell_type": "code",
   "execution_count": null,
   "id": "cb43b1af-78f6-4e08-a667-d1fd5659f7f0",
   "metadata": {},
   "outputs": [],
   "source": [
    "fig = plt.figure(figsize=(5, 5))\n",
    "ax1 = fig.add_subplot(1, 1, 1)\n",
    "fig = sm.graphics.tsa.plot_acf(ALL_with_label['WF01_ActivePower'], lags= 30, ax= ax1)\n",
    "plt.xlabel('Time lag')\n",
    "plt.ylim(0, 1)\n",
    "plt.savefig('acf.png')\n",
    "plt.show()"
   ]
  },
  {
   "cell_type": "code",
   "execution_count": null,
   "id": "1769b5ef-cca0-4917-a47d-4f1e44cb5f92",
   "metadata": {},
   "outputs": [],
   "source": [
    "fig = plt.figure(figsize=(5, 5))\n",
    "ax2 = fig.add_subplot(1, 1, 1)\n",
    "fig = sm.graphics.tsa.plot_pacf(ALL_with_label['WF01_ActivePower'], lags= 10, ax= ax2)\n",
    "plt.axhline(y= -1.96/np.sqrt(len(ALL_with_label['WF01_ActivePower'])), linestyle= '--', color= 'gray')\n",
    "plt.axhline(y= 1.96/np.sqrt(len(ALL_with_label['WF01_ActivePower'])), linestyle= '--', color= 'gray')\n",
    "plt.xlabel('Time lag')\n",
    "plt.ylim(-0.25, 1)\n",
    "plt.savefig('pacf.png')\n",
    "plt.show()"
   ]
  },
  {
   "cell_type": "markdown",
   "id": "93364c34-3419-47f8-8d4a-19e159a62b94",
   "metadata": {},
   "source": [
    "### 製造出 t-1 ~ t-7，的 features 並移除了 t 時點的 features"
   ]
  },
  {
   "cell_type": "code",
   "execution_count": null,
   "id": "af476f0a-17ff-49a9-90e1-ba6bb9ddf1b7",
   "metadata": {},
   "outputs": [],
   "source": [
    "def make_t_mu_features(t):\n",
    "    #new_with_t = new.iloc[t:, :].reset_index(drop= True)\n",
    "    tmp2 = ALL_with_label.loc[t:, ['datetime','WF01_ActivePower']].reset_index(drop= True) #先把 label 拿出ㄓㄞ\n",
    "    for col in ALL_with_label.drop('datetime', axis= 1).columns:\n",
    "        for i in np.arange(1, t+1): #製造 t-1~t-7 的 features\n",
    "            tmp = ALL_with_label.loc[t-i:new_with_t.shape[0]+(t-i-1), col].reset_index(drop= True)\n",
    "            tmp.name = col + '_t-' + str(i)\n",
    "            print(col + '_t-' + str(i))\n",
    "            tmp2 = pd.concat([tmp2, tmp], axis= 1)\n",
    "    return tmp2"
   ]
  },
  {
   "cell_type": "code",
   "execution_count": null,
   "id": "00ecbb68-8905-4494-b5ce-6dba8ab36291",
   "metadata": {
    "scrolled": true,
    "tags": []
   },
   "outputs": [],
   "source": [
    "ALL_with_past_features = make_t_mu_features(7)\n",
    "ALL_with_past_features.shape"
   ]
  },
  {
   "cell_type": "markdown",
   "id": "ab1b174f-16c7-48db-a6a6-f71935fe7934",
   "metadata": {
    "tags": []
   },
   "source": [
    "### 刪除異常的 WF01_ActivePower and WF01_TotalActivePowerGen\n",
    "每支風機裝置容量是 3600kWh，也就是一支風機每小時最多發 3600kWh，每 5 分鐘最大發電量就是 600 kWh"
   ]
  },
  {
   "cell_type": "code",
   "execution_count": null,
   "id": "5a657d7e-f549-46b4-b896-a023697e807e",
   "metadata": {},
   "outputs": [],
   "source": [
    "ALL_with_past_features = ALL_with_past_features.drop(new_with_t[new_with_t['WF01_ActivePower']> 600].index)\n",
    "for i in range(1, 8):\n",
    "    name = 'WF01_ActivePower_t-' + str(i)\n",
    "    new_with_t = ALL_with_past_features.drop(new_with_t[new_with_t[name]> 600].index)"
   ]
  },
  {
   "cell_type": "code",
   "execution_count": null,
   "id": "e17fc74a-5508-49b4-a145-aa3e85aa5c33",
   "metadata": {},
   "outputs": [],
   "source": [
    "for i in range(1, 8):\n",
    "    name = 'WF01_TotalActivePowerGen_t-' + str(i)\n",
    "    ALL_with_past_features = ALL_with_past_features.drop(new_with_t[new_with_t[name]> 600].index)"
   ]
  },
  {
   "cell_type": "markdown",
   "id": "3ca2d733-5bf3-4bc4-9cef-b47776e3a6c4",
   "metadata": {},
   "source": [
    "### 選取和 label 相關係數前 20 高的當成 model 的 features"
   ]
  },
  {
   "cell_type": "code",
   "execution_count": null,
   "id": "25da8197-b0a2-43f3-8c13-b3dd61594df2",
   "metadata": {},
   "outputs": [],
   "source": [
    "#ALL_with_past_features = pd.read_csv('../wind power prediction/WF01_check_point.csv')"
   ]
  },
  {
   "cell_type": "code",
   "execution_count": null,
   "id": "0e8704b4-6722-4643-b4e1-3e49b9cd1c2e",
   "metadata": {},
   "outputs": [],
   "source": [
    "corr_power = np.abs(ALL_with_past_features.corr()['WF01_ActivePower']).sort_values(ascending= False)"
   ]
  },
  {
   "cell_type": "code",
   "execution_count": null,
   "id": "5a418592-ef9b-4a7d-917d-6757b7ddf369",
   "metadata": {},
   "outputs": [],
   "source": [
    "feature_name = corr_power[0:21]\n",
    "display(corr_power[0:21])\n",
    "feature_name = feature_name.append(pd.Series(data= {'datetime':0})).index.tolist()\n",
    "data = ALL_with_past_features[feature_name]\n",
    "data.shape"
   ]
  },
  {
   "cell_type": "code",
   "execution_count": null,
   "id": "4e3e229d-c957-44a0-b658-c0d46b765289",
   "metadata": {
    "tags": []
   },
   "outputs": [],
   "source": [
    "seed = 719\n",
    "lasso = LassoCV(cv= 10, random_state= seed, max_iter= 100000, n_jobs= -1, eps= 1e-3)\n",
    "lasso.fit(data.drop(['datetime','WF01_ActivePower'], axis= 1), data['WF01_ActivePower'])\n",
    "keep_cols = [feature for feature, weight in zip(data.drop('WF01_ActivePower', axis= 1).columns, lasso.coef_) if weight != 0]\n",
    "keep_cols"
   ]
  },
  {
   "cell_type": "markdown",
   "id": "b91002f5-b3d9-49f2-a8d8-9570c17975e7",
   "metadata": {
    "jp-MarkdownHeadingCollapsed": true,
    "tags": []
   },
   "source": [
    "### 針對上一步所選取的 features 做 EDA針對上一步所選取的 features 做 EDA"
   ]
  },
  {
   "cell_type": "code",
   "execution_count": null,
   "id": "0f917c58-16c9-4726-a4fe-db65cdcd3fbd",
   "metadata": {},
   "outputs": [],
   "source": [
    "data.describe()"
   ]
  },
  {
   "cell_type": "code",
   "execution_count": null,
   "id": "ced86353-8b6e-45f1-a0c1-ba3375e70339",
   "metadata": {},
   "outputs": [],
   "source": [
    "sns.boxplot(x= data['WF01_ActivePower'])"
   ]
  },
  {
   "cell_type": "code",
   "execution_count": null,
   "id": "b36ba1af-c203-4a23-824e-7e7dbd4dde0d",
   "metadata": {},
   "outputs": [],
   "source": [
    "sns.histplot(data['WF01_ActivePower'])"
   ]
  },
  {
   "cell_type": "code",
   "execution_count": null,
   "id": "d3a76790-cf36-4eaa-b334-65d7d965fe2a",
   "metadata": {
    "scrolled": true,
    "tags": []
   },
   "outputs": [],
   "source": [
    "data.loc[data.WF01_ActivePower>600, ['WF01_ActivePower']].value_counts()"
   ]
  },
  {
   "cell_type": "code",
   "execution_count": null,
   "id": "415c5d5b-f694-4e52-bf71-5ea2390e9f10",
   "metadata": {},
   "outputs": [],
   "source": [
    "sns.histplot(data[data.WF01_ActivePower<= 600]['WF01_ActivePower'])"
   ]
  },
  {
   "cell_type": "code",
   "execution_count": null,
   "id": "33499648-212d-4bd3-9bca-867d0aafdb36",
   "metadata": {},
   "outputs": [],
   "source": [
    "sns.histplot(data[data.WF01_ActivePower>600]['WF01_ActivePower'])"
   ]
  },
  {
   "cell_type": "code",
   "execution_count": null,
   "id": "056c5c72-06ab-4d47-b80e-272ef01e650b",
   "metadata": {},
   "outputs": [],
   "source": [
    "sns.boxplot(x= data['WF01_ActivePower_t-2'])"
   ]
  },
  {
   "cell_type": "code",
   "execution_count": null,
   "id": "28eacc54-f98e-4a87-9b3d-48269e1e85c2",
   "metadata": {},
   "outputs": [],
   "source": [
    "data['WF01_ActivePower_t-2'].value_counts()"
   ]
  },
  {
   "cell_type": "code",
   "execution_count": null,
   "id": "6aaf313a-80c7-4428-94a1-db7588831065",
   "metadata": {},
   "outputs": [],
   "source": [
    "sns.histplot(x= data['WF01_ActivePower_t-2'])"
   ]
  },
  {
   "cell_type": "code",
   "execution_count": null,
   "id": "7407b3a8-bcfa-4f11-8757-a9a5f6014392",
   "metadata": {},
   "outputs": [],
   "source": [
    "sns.histplot(data[data['WF01_ActivePower_t-2']<=600]['WF01_ActivePower_t-2'])"
   ]
  },
  {
   "cell_type": "code",
   "execution_count": null,
   "id": "881ba548-99c2-461c-9f25-4bafb6945927",
   "metadata": {},
   "outputs": [],
   "source": [
    "sns.histplot(data[data['WF01_ActivePower_t-2']>600]['WF01_ActivePower_t-2'])"
   ]
  },
  {
   "cell_type": "code",
   "execution_count": null,
   "id": "787afef9-11ea-4dd3-9a80-654318c01b70",
   "metadata": {},
   "outputs": [],
   "source": [
    "sns.scatterplot(x= data['WF01_ActivePower_t-2'], y= data['WF01_ActivePower'])"
   ]
  },
  {
   "cell_type": "code",
   "execution_count": null,
   "id": "fdd2d51f-08a0-4095-bfe3-5e8a3eab704f",
   "metadata": {},
   "outputs": [],
   "source": [
    "sns.boxplot(x= data['WF01_TotalActivePowerGen_t-2'])"
   ]
  },
  {
   "cell_type": "code",
   "execution_count": null,
   "id": "c0ea2ef3-94b6-4cb4-bb7e-6efd9989de50",
   "metadata": {},
   "outputs": [],
   "source": [
    "data['WF01_TotalActivePowerGen_t-2'].value_counts()"
   ]
  },
  {
   "cell_type": "code",
   "execution_count": null,
   "id": "836152cc-f968-4f79-919c-8793a0ac85f5",
   "metadata": {},
   "outputs": [],
   "source": [
    "sns.histplot(x= data['WF01_TotalActivePowerGen_t-2'])"
   ]
  },
  {
   "cell_type": "code",
   "execution_count": null,
   "id": "76182780-6e07-4590-8005-39a99c9bd15a",
   "metadata": {},
   "outputs": [],
   "source": [
    "sns.histplot(x= data[data['WF01_TotalActivePowerGen_t-2']>0]['WF01_TotalActivePowerGen_t-2'])"
   ]
  },
  {
   "cell_type": "code",
   "execution_count": null,
   "id": "5749de38-fd1c-49c6-a195-bb0785f176bf",
   "metadata": {},
   "outputs": [],
   "source": [
    "sns.scatterplot(x= data['WF01_TotalActivePowerGen_t-2'], y= data['WF01_ActivePower'])"
   ]
  },
  {
   "cell_type": "code",
   "execution_count": null,
   "id": "878ded16-d42b-49ce-9724-1bffc8687174",
   "metadata": {},
   "outputs": [],
   "source": [
    "sns.boxplot(x= data['WF01_GRID_PossiblePower_t-3'])"
   ]
  },
  {
   "cell_type": "code",
   "execution_count": null,
   "id": "bd86f1f1-6786-4e88-b783-74e74cd647a4",
   "metadata": {},
   "outputs": [],
   "source": [
    "data['WF01_GRID_PossiblePower_t-3'].value_counts()"
   ]
  },
  {
   "cell_type": "code",
   "execution_count": null,
   "id": "404e159c-ffd8-471b-976a-5525cc660fa8",
   "metadata": {},
   "outputs": [],
   "source": [
    "sns.histplot(x= data['WF01_GRID_PossiblePower_t-3'])"
   ]
  },
  {
   "cell_type": "code",
   "execution_count": null,
   "id": "c2cd0937-a557-462e-80f8-3a860ac49c3c",
   "metadata": {},
   "outputs": [],
   "source": [
    "data[data['WF01_GRID_PossiblePower_t-3']<0]['WF01_GRID_PossiblePower_t-3']"
   ]
  },
  {
   "cell_type": "code",
   "execution_count": null,
   "id": "8fa53e88-3fc9-4241-b073-72fc91e085ec",
   "metadata": {},
   "outputs": [],
   "source": [
    "sns.histplot(x= data[data['WF01_GRID_PossiblePower_t-3']<0]['WF01_GRID_PossiblePower_t-3'])"
   ]
  },
  {
   "cell_type": "code",
   "execution_count": null,
   "id": "b0b6bf2f-cf56-4aa8-afd6-210f8e3e89aa",
   "metadata": {},
   "outputs": [],
   "source": [
    "sns.scatterplot(x= data['WF01_GRID_PossiblePower_t-3'], y= data['WF01_ActivePower'])"
   ]
  },
  {
   "cell_type": "code",
   "execution_count": null,
   "id": "406c8e32-6e05-4157-b624-c7612441d686",
   "metadata": {},
   "outputs": [],
   "source": [
    "sns.boxplot(x= data['WF01_GRID_Current_P3_t-3'])"
   ]
  },
  {
   "cell_type": "code",
   "execution_count": null,
   "id": "c4ccb062-5d5c-430e-ab13-d8c09b465087",
   "metadata": {},
   "outputs": [],
   "source": [
    "data['WF01_GRID_Current_P3_t-3'].value_counts()"
   ]
  },
  {
   "cell_type": "code",
   "execution_count": null,
   "id": "a1d17127-0ec5-4dd5-af57-b31327694da2",
   "metadata": {},
   "outputs": [],
   "source": [
    "sns.histplot(x= data['WF01_GRID_Current_P3_t-3'])"
   ]
  },
  {
   "cell_type": "code",
   "execution_count": null,
   "id": "04f09db8-5ad6-4f5f-8783-d68bb80843d4",
   "metadata": {},
   "outputs": [],
   "source": [
    "sns.scatterplot(x= data['WF01_GRID_Current_P3_t-3'], y= data['WF01_ActivePower'])"
   ]
  },
  {
   "cell_type": "code",
   "execution_count": null,
   "id": "43186d4f-2bee-4fac-8c9a-c0202a97637c",
   "metadata": {},
   "outputs": [],
   "source": [
    "sns.boxplot(x= data['WF01_GRID_Current_P2_t-3'])"
   ]
  },
  {
   "cell_type": "code",
   "execution_count": null,
   "id": "511f5ae4-5894-4455-b553-d5b40a0c4403",
   "metadata": {},
   "outputs": [],
   "source": [
    "data['WF01_GRID_Current_P2_t-3'].value_counts()"
   ]
  },
  {
   "cell_type": "code",
   "execution_count": null,
   "id": "282f404b-1f01-4bcb-9e66-de5216ffb391",
   "metadata": {},
   "outputs": [],
   "source": [
    "sns.histplot(x= data['WF01_GRID_Current_P2_t-3'])"
   ]
  },
  {
   "cell_type": "code",
   "execution_count": null,
   "id": "a8a01712-5d18-4ba0-95ed-4bff0dccc0d2",
   "metadata": {},
   "outputs": [],
   "source": [
    "sns.scatterplot(x= data['WF01_GRID_Current_P2_t-3'], y= data['WF01_ActivePower'])"
   ]
  },
  {
   "cell_type": "code",
   "execution_count": null,
   "id": "c57d8ebd-7567-42c2-a051-d776bfd8e09e",
   "metadata": {},
   "outputs": [],
   "source": [
    "sns.boxplot(x= data['WF01_GRID_Power_t-3'])"
   ]
  },
  {
   "cell_type": "code",
   "execution_count": null,
   "id": "0f6ca8b2-4e14-4e11-9da6-3684596eb8ec",
   "metadata": {},
   "outputs": [],
   "source": [
    "data['WF01_GRID_Power_t-3'].value_counts()"
   ]
  },
  {
   "cell_type": "code",
   "execution_count": null,
   "id": "5f11908a-e14c-450e-9da6-cdd6ba6a2324",
   "metadata": {},
   "outputs": [],
   "source": [
    "sns.histplot(x= data['WF01_GRID_Power_t-3'])"
   ]
  },
  {
   "cell_type": "code",
   "execution_count": null,
   "id": "e22d8db9-14bd-465b-855c-0823febd1153",
   "metadata": {},
   "outputs": [],
   "source": [
    "sns.scatterplot(x= data['WF01_GRID_Power_t-3'], y= data['WF01_ActivePower'])"
   ]
  },
  {
   "cell_type": "code",
   "execution_count": null,
   "id": "b4d852ad-f2bd-40fc-9d0d-b303a6ea98d6",
   "metadata": {},
   "outputs": [],
   "source": [
    "sns.boxplot(x= new_with_t['WF01_MAIN_WindSpeed_t-1'])"
   ]
  },
  {
   "cell_type": "code",
   "execution_count": null,
   "id": "0d18eac3-17bd-42b0-814c-2ae47d2d071d",
   "metadata": {},
   "outputs": [],
   "source": [
    "plt.figure(figsize= (10, 8))\n",
    "sns.histplot(x= new_with_t['WF01_COUNTER_TotalActivePower_t-1'])\n",
    "plt.savefig('../wind power prediction/hist_totalAcitvePower.png')\n",
    "plt.show()"
   ]
  },
  {
   "cell_type": "code",
   "execution_count": null,
   "id": "5377e8dd-bb25-49cb-be66-7422771a96b9",
   "metadata": {},
   "outputs": [],
   "source": [
    "plt.figure(figsize= (10, 8))\n",
    "sns.histplot(x= new_with_t['WF01_ActivePower'])\n",
    "plt.savefig('../wind power prediction/hist_ActivePower.png')\n",
    "plt.show()"
   ]
  },
  {
   "cell_type": "markdown",
   "id": "ac5644ad-09c7-4447-bcf8-114067280339",
   "metadata": {},
   "source": [
    "### 使用 20210803~20220630 當成 train set，20220731 當成 test set"
   ]
  },
  {
   "cell_type": "code",
   "execution_count": null,
   "id": "10b26919-5032-494a-a42d-801037e7aa2d",
   "metadata": {},
   "outputs": [],
   "source": [
    "# 按時間月份切，2022-07 當 test set\n",
    "train = data.loc[(data.datetime<= '2022-05-31 23:55:00')] #不能用 06-31，因為6月只有30天\n",
    "test = data.loc[data.datetime >= '2022-07-01 00:00:00']\n",
    "test_time = test['datetime']\n",
    "x_train, y_train = train.drop(['WF01_ActivePower', 'datetime'], axis= 1).to_numpy(), train['WF01_ActivePower'].to_numpy()\n",
    "x_test, y_test = test.drop(['WF01_ActivePower', 'datetime'], axis= 1).to_numpy(), test['WF01_ActivePower'].to_numpy()"
   ]
  },
  {
   "cell_type": "code",
   "execution_count": null,
   "id": "f9660382-90ec-4a17-9533-3addb0b3bba8",
   "metadata": {},
   "outputs": [],
   "source": [
    "#shuffle False\n",
    "x_train, x_test, y_train, y_test = train_test_split(data.drop(['WF01_ActivePower', 'datetime'], axis= 1).to_numpy(), data['WF01_ActivePower'].to_numpy(), test_size= 0.2, shuffle= False, random_state= seed)"
   ]
  },
  {
   "cell_type": "code",
   "execution_count": null,
   "id": "4dfa4189-750f-47f6-a124-34a15771f36a",
   "metadata": {},
   "outputs": [],
   "source": [
    "#shuffle True\n",
    "x_train, x_test, y_train, y_test = train_test_split(data.drop(['WF01_ActivePower', 'datetime'], axis= 1).to_numpy(), data['WF01_ActivePower'].to_numpy(), test_size= 0.2, shuffle= True, random_state= seed)"
   ]
  },
  {
   "cell_type": "code",
   "execution_count": null,
   "id": "b935166c-924a-4a43-b5a2-2f05db2d02c6",
   "metadata": {},
   "outputs": [],
   "source": [
    "print(y_train.shape)\n",
    "print(y_test.shape)"
   ]
  },
  {
   "cell_type": "code",
   "execution_count": null,
   "id": "5fc729d9-473b-42f1-8f85-3b4320890a75",
   "metadata": {},
   "outputs": [],
   "source": [
    "scaler = StandardScaler()\n",
    "x_train = scaler.fit_transform(x_train)\n",
    "x_test = scaler.transform(x_test)"
   ]
  },
  {
   "cell_type": "markdown",
   "id": "62a6615b-a093-4b86-9477-86bd1e86127c",
   "metadata": {},
   "source": [
    "### 訓練模型"
   ]
  },
  {
   "cell_type": "code",
   "execution_count": null,
   "id": "f57c2b7a-60fd-49c7-b4d9-3662b6c71762",
   "metadata": {},
   "outputs": [],
   "source": [
    "def smape(y, pred):\n",
    "    smape = np.empty(len(y))\n",
    "    for i in range(len(y)):\n",
    "        if pred[i] + y[i]== 0:\n",
    "            smape[i] = np.abs(pred[i] - y[i]) / 0.5\n",
    "        else:\n",
    "            smape[i] = np.abs(pred[i] - y[i]) / ((np.abs(pred[i]) + np.abs(y[i])) * 0.5)\n",
    "    return np.mean(smape)"
   ]
  },
  {
   "cell_type": "code",
   "execution_count": null,
   "id": "5ef423a0-f476-46d5-9055-0d2f2839b524",
   "metadata": {},
   "outputs": [],
   "source": [
    "def mape(y, pred):\n",
    "    mape = np.empty(len(y))\n",
    "    for i in range(len(y)):\n",
    "        if y[i] == 0:\n",
    "            mape[i] = np.abs((pred[i] - y[i]) / 1)\n",
    "        else:\n",
    "            mape[i] = np.abs((pred[i] - y[i]) / y[i])\n",
    "    return np.mean(mape)"
   ]
  },
  {
   "cell_type": "code",
   "execution_count": null,
   "id": "961a76cf-8107-4350-b247-9fe80b002b32",
   "metadata": {},
   "outputs": [],
   "source": [
    "mape_score = make_scorer(mape, greater_is_better= False)"
   ]
  },
  {
   "cell_type": "code",
   "execution_count": null,
   "id": "b260f603-31e2-4736-8cac-192f432f3396",
   "metadata": {},
   "outputs": [],
   "source": [
    "def print_score(self, x_train, x_test, y_train, y_test):\n",
    "    train_pred = self.predict(x_train)\n",
    "    test_pred = self.predict(x_test)\n",
    "    train_pred[train_pred<0] = 0\n",
    "    train_pred[train_pred>600] = 600\n",
    "    test_pred[test_pred<0] = 0\n",
    "    test_pred[test_pred>600] = 600\n",
    "    \n",
    "    \n",
    "    train_mse = mean_squared_error(y_train, train_pred)\n",
    "    test_mse = mean_squared_error(y_test, test_pred)\n",
    "    \n",
    "    train_mae = mean_absolute_error(y_train, train_pred)\n",
    "    test_mae = mean_absolute_error(y_test, test_pred)\n",
    "    \n",
    "    train_mape = mape(y_train, train_pred)\n",
    "    test_mape = mape(y_test, test_pred)\n",
    "    \n",
    "    \n",
    "    train_smape = smape(y_train, train_pred)\n",
    "    test_smape = smape(y_test, test_pred)\n",
    "    \n",
    "    train_r2 = r2_score(y_train, train_pred)\n",
    "    test_r2 = r2_score(y_test, test_pred)\n",
    "    \n",
    "    cross_mape = cross_val_score(self, x_train, y_train, cv= 10, scoring= mape_score)\n",
    "    \n",
    "    print(f'train/test MSE {train_mse:.9f}/{test_mse:.9f}')\n",
    "    print(f'train/test MAE {train_mae:.9f}/{test_mae:.9f}')\n",
    "    print(f'train/test MAPE {train_mape:.9f}/{test_mape:.9f}')    \n",
    "    print(f'train/test SMAPE {train_smape:.9f}/{test_smape:.9f}')\n",
    "    print(f'train/test r2_squared {train_r2:.9f}/{test_r2:.9f}\\n')\n",
    "    print(f'MAPE for cv= 10: {-cross_mape.mean():.9f} (+/- {cross_mape.std():.9f})')"
   ]
  },
  {
   "cell_type": "code",
   "execution_count": null,
   "id": "e7dc6fe3-de20-4401-97d5-9476b130089c",
   "metadata": {},
   "outputs": [],
   "source": [
    "def predict_plot(self, x_test, y_test, test_time):\n",
    "    test_pred = self.predict(x_test)\n",
    "    test_pred[test_pred<0] = 0\n",
    "    test_pred[test_pred>600] = 600\n",
    "    # test plot\n",
    "    plt.figure(figsize= (20, 8))\n",
    "    plt.title('test predicted V.S. Actual')\n",
    "    plt.plot(test_time, y_test, color= 'C0', marker= 'o', label= 'Actual Power')\n",
    "    plt.plot(test_time, test_pred, color= 'C1', marker= 'o', label= 'Predicted Power')\n",
    "    plt.legend(prop= {'size': 10})\n",
    "    plt.savefig('../wind power prediction/predict_plot.png')\n",
    "    plt.show()"
   ]
  },
  {
   "cell_type": "code",
   "execution_count": null,
   "id": "7bba07e3-5893-49c2-858e-37a52a19f46b",
   "metadata": {},
   "outputs": [],
   "source": [
    "def shuffle_predict_plot(self, x_test, y_test, test_time):\n",
    "    test_pred = self.predict(x_test)\n",
    "    test_pred[test_pred<0] = 0\n",
    "    test_pred[test_pred>600] = 600\n",
    "    # test plot\n",
    "    x = range(len(y_test))\n",
    "    plt.figure(figsize= (15, 8))\n",
    "    plt.title('Predicted V.S. Actual')\n",
    "    plt.plot(x, y_test, color= 'C0', marker= 'o', label= 'Actual Power')\n",
    "    plt.plot(x, test_pred, color= 'C1', marker= 'o', label= 'Predicted Power')\n",
    "    plt.legend(prop= {'size': 10})\n",
    "    plt.show()"
   ]
  },
  {
   "cell_type": "code",
   "execution_count": null,
   "id": "f773902e-5296-4448-beb5-6bbae046fa65",
   "metadata": {},
   "outputs": [],
   "source": [
    "seed = 719"
   ]
  },
  {
   "cell_type": "code",
   "execution_count": null,
   "id": "7ea9622f-e5b8-44d2-bcc7-30272653cacb",
   "metadata": {
    "tags": []
   },
   "outputs": [],
   "source": [
    "# 按時間月份切，2022-07 當 test set\n",
    "xgb = XGBRegressor(learning_rate= 0.1, n_estimators= 100, max_depth= 10, objective= 'reg:squarederror', n_jobs= 20, seed= seed)\n",
    "xgb.fit(x_train, y_train)\n",
    "print_score(xgb, x_train, x_test, y_train, y_test)\n",
    "predict_plot(xgb, x_test, y_test, test_time)"
   ]
  },
  {
   "cell_type": "code",
   "execution_count": null,
   "id": "a8f9234c-9fb2-4296-a267-1e1457be319e",
   "metadata": {},
   "outputs": [],
   "source": [
    "# test size= 0.2, shuffle= True\n",
    "xgb = XGBRegressor(learning_rate= 0.1, n_estimators= 100, max_depth= 10, objective= 'reg:squarederror', n_jobs= 20, seed= seed)\n",
    "xgb.fit(x_train, y_train)\n",
    "print_score(xgb, x_train, x_test, y_train, y_test)\n",
    "shuffle_predict_plot(xgb, x_test, y_test, test_time)"
   ]
  },
  {
   "cell_type": "code",
   "execution_count": null,
   "id": "0100bc0b-d584-4ae2-9525-eca0a37d8c26",
   "metadata": {},
   "outputs": [],
   "source": [
    "#切一天來畫圖\n",
    "plot_data = data[(data.datetime>= '2022-07-21 00:00:00')&(data.datetime<= '2022-07-21 23:55:00')]\n",
    "plot_x, plot_y = plot_data.drop(['WF01_ActivePower', 'datetime'], axis= 1).to_numpy(), plot_data['WF01_ActivePower'].to_numpy()\n",
    "plot_time = plot_data['datetime']\n",
    "#plot_time = pd.to_datetime(plot_time, format= '%Y-%m-%d %H:%M:%S')\n",
    "plot_x = scaler.transform(plot_x)\n",
    "predict_plot(xgb, plot_x, plot_y, plot_time)"
   ]
  },
  {
   "cell_type": "code",
   "execution_count": null,
   "id": "fa7fc181-3cbc-4100-bfa6-c6322a0c2da4",
   "metadata": {},
   "outputs": [],
   "source": [
    "# test size= 0.2, shuffle= False\n",
    "xgb = XGBRegressor(learning_rate= 0.1, n_estimators= 100, max_depth= 10, objective= 'reg:squarederror', n_jobs= 20, seed= seed)\n",
    "xgb.fit(x_train, y_train)\n",
    "print_score(xgb, x_train, x_test, y_train, y_test)\n",
    "shuffle_predict_plot(xgb, x_test, y_test, test_time)"
   ]
  },
  {
   "cell_type": "code",
   "execution_count": null,
   "id": "414457ad-a904-472a-8834-cbb02774cf63",
   "metadata": {},
   "outputs": [],
   "source": [
    "# 按時間月份切，2022-07 當 test set\n",
    "rfreg = RandomForestRegressor(n_estimators= 100, criterion= 'squared_error', max_depth= 10, n_jobs= 10, random_state= seed)\n",
    "rfreg.fit(x_train, y_train)\n",
    "print_score(rfreg, x_train, x_test, y_train, y_test)\n",
    "predict_plot(rfreg, x_test, y_test, test_time)"
   ]
  },
  {
   "cell_type": "code",
   "execution_count": null,
   "id": "f4a80158-2f91-4138-ad9e-6188fb23f8e0",
   "metadata": {},
   "outputs": [],
   "source": [
    "#test size= 0.2, shuffle= True\n",
    "rfreg = RandomForestRegressor(n_estimators= 100, criterion= 'squared_error', max_depth= 10, n_jobs= 10, random_state= seed)\n",
    "rfreg.fit(x_train, y_train)\n",
    "print_score(rfreg, x_train, x_test, y_train, y_test)\n",
    "shuffle_predict_plot(rfreg, x_test, y_test, test_time)"
   ]
  },
  {
   "cell_type": "code",
   "execution_count": null,
   "id": "5a8b6d64-b814-4886-9056-18223626dc5d",
   "metadata": {},
   "outputs": [],
   "source": [
    "predict_plot(rfreg, plot_x, plot_y, plot_time)"
   ]
  },
  {
   "cell_type": "code",
   "execution_count": null,
   "id": "60d456aa-23c8-4fa1-810b-05ee0ced6e75",
   "metadata": {
    "tags": []
   },
   "outputs": [],
   "source": [
    "#test size= 0.2, shuffle= False\n",
    "rfreg = RandomForestRegressor(n_estimators= 100, criterion= 'squared_error', max_depth= 10, n_jobs= 10, random_state= seed)\n",
    "rfreg.fit(x_train, y_train)\n",
    "print_score(rfreg, x_train, x_test, y_train, y_test)\n",
    "shuffle_predict_plot(rfreg, x_test, y_test, test_time)"
   ]
  },
  {
   "cell_type": "code",
   "execution_count": null,
   "id": "04d6afea-6b01-437d-92a1-2508fc391239",
   "metadata": {},
   "outputs": [],
   "source": [
    "# 按時間月份切，2022-07 當 test set\n",
    "svr = SVR(kernel= 'rbf', gamma= 'auto' ,C= 1, epsilon= 0.1, cache_size= 1000, max_iter= 50000)\n",
    "svr.fit(x_train, y_train)\n",
    "print_score(svr, x_train, x_test, y_train, y_test)\n",
    "predict_plot(svr, x_test, y_test, test_time)"
   ]
  },
  {
   "cell_type": "code",
   "execution_count": null,
   "id": "02f8b8e9-bdd4-428e-a41d-fb3cdb2486ed",
   "metadata": {
    "scrolled": true,
    "tags": []
   },
   "outputs": [],
   "source": [
    "#test size= 0.2, shuffle= True\n",
    "svr = SVR(kernel= 'rbf', gamma= 'auto' ,C= 1, epsilon= 0.1, cache_size= 1000, max_iter= 50000)\n",
    "svr.fit(x_train, y_train)\n",
    "print_score(svr, x_train, x_test, y_train, y_test)\n",
    "shuffle_predict_plot(xgb, x_test, y_test, test_time)"
   ]
  },
  {
   "cell_type": "code",
   "execution_count": null,
   "id": "ffe58802-939b-4fae-a723-e0035660cb4f",
   "metadata": {},
   "outputs": [],
   "source": [
    "predict_plot(svr, plot_x, plot_y, plot_time)"
   ]
  },
  {
   "cell_type": "code",
   "execution_count": null,
   "id": "461610b7-f76d-49f5-a52a-e3ffccb6826b",
   "metadata": {},
   "outputs": [],
   "source": [
    "#test size= 0.2, shuffle= False\n",
    "svr = SVR(kernel= 'rbf', gamma= 'auto' ,C= 1, epsilon= 0.1, cache_size= 1000, max_iter= 50000)\n",
    "svr.fit(x_train, y_train)\n",
    "print_score(svr, x_train, x_test, y_train, y_test)\n",
    "shuffle_predict_plot(xgb, x_test, y_test, test_time)"
   ]
  },
  {
   "cell_type": "code",
   "execution_count": null,
   "id": "f37e56c6-eaf8-4d9b-a7e3-d56580005426",
   "metadata": {},
   "outputs": [],
   "source": [
    "# knnreg = KNeighborsRegressor(n_neighbors= 100, weights= 'uniform', algorithm= 'auto', leaf_size= 30, n_jobs= 1)\n",
    "# knnreg.fit(x_train, y_train)\n",
    "# print_score(knnreg, x_train, x_test, y_train, y_test)\n",
    "# shuffle_predict_plot(svr, x_train, x_test, y_train, y_test, train_time, test_time)"
   ]
  },
  {
   "cell_type": "code",
   "execution_count": null,
   "id": "df835641-6193-4b14-854c-7cfd75623119",
   "metadata": {},
   "outputs": [],
   "source": [
    "# 按時間月份切，2022-07 當 test set\n",
    "ridge= Ridge(alpha= 0.5)\n",
    "ridge.fit(x_train, y_train)\n",
    "print_score(ridge, x_train, x_test, y_train, y_test)\n",
    "predict_plot(ridge, x_test, y_test, test_time)"
   ]
  },
  {
   "cell_type": "code",
   "execution_count": null,
   "id": "2cfef2de-f035-4ddc-8d12-94127956c209",
   "metadata": {},
   "outputs": [],
   "source": [
    "#test size= 0.2, shuffle= True\n",
    "ridge= Ridge(alpha= 0.5)\n",
    "ridge.fit(x_train, y_train)\n",
    "print_score(ridge, x_train, x_test, y_train, y_test)"
   ]
  },
  {
   "cell_type": "code",
   "execution_count": null,
   "id": "e67da70e-760a-48f7-adb9-9b80de49968d",
   "metadata": {},
   "outputs": [],
   "source": [
    "#test size= 0.2, shuffle= False\n",
    "ridge= Ridge(alpha= 0.5)\n",
    "ridge.fit(x_train, y_train)\n",
    "print_score(ridge, x_train, x_test, y_train, y_test)"
   ]
  },
  {
   "cell_type": "code",
   "execution_count": null,
   "id": "28492458-8f25-4852-b5be-6fba6a93348f",
   "metadata": {},
   "outputs": [],
   "source": [
    "# 按時間月份切，2022-07 當 test set\n",
    "bayesreg = BayesianRidge(tol= 1e-3, alpha_1= 1e-6, alpha_2 = 1e-6, lambda_1= 1e-6, lambda_2= 1e-6)\n",
    "bayesreg.fit(x_train, y_train)\n",
    "print_score(bayesreg, x_train, x_test, y_train, y_test)\n",
    "predict_plot(bayesreg, x_test, y_test, test_time)"
   ]
  },
  {
   "cell_type": "code",
   "execution_count": null,
   "id": "60936de4-8b9c-4e3f-aceb-ec270d15fddd",
   "metadata": {},
   "outputs": [],
   "source": [
    "#test size= 0.2, shuffle= True\n",
    "bayesreg = BayesianRidge(tol= 1e-3, alpha_1= 1e-6, alpha_2 = 1e-6, lambda_1= 1e-6, lambda_2= 1e-6)\n",
    "bayesreg.fit(x_train, y_train)\n",
    "print_score(bayesreg, x_train, x_test, y_train, y_test)\n",
    "shuffle_predict_plot(bayesreg, x_test, y_test, test_time)"
   ]
  },
  {
   "cell_type": "code",
   "execution_count": null,
   "id": "8b538617-1f98-45e3-b39b-269d272e0007",
   "metadata": {},
   "outputs": [],
   "source": [
    "#test size= 0.2, shuffle= False\n",
    "bayesreg = BayesianRidge(tol= 1e-3, alpha_1= 1e-6, alpha_2 = 1e-6, lambda_1= 1e-6, lambda_2= 1e-6)\n",
    "bayesreg.fit(x_train, y_train)\n",
    "print_score(bayesreg, x_train, x_test, y_train, y_test)\n",
    "shuffle_predict_plot(bayesreg, x_test, y_test, test_time)"
   ]
  },
  {
   "cell_type": "code",
   "execution_count": null,
   "id": "eecd2f4d-d0fc-4c62-8607-16fa17d67521",
   "metadata": {},
   "outputs": [],
   "source": [
    "# 按時間月份切，2022-07 當 test set\n",
    "dt = DecisionTreeRegressor(criterion= 'squared_error', max_depth= 10, random_state= seed)\n",
    "dt.fit(x_train, y_train)\n",
    "print_score(ridge, x_train, x_test, y_train, y_test)\n",
    "shuffle_predict_plot(dt, x_test, y_test, test_time)"
   ]
  },
  {
   "cell_type": "code",
   "execution_count": null,
   "id": "2466f81f-0d23-434f-9fbf-64e3caac8b38",
   "metadata": {},
   "outputs": [],
   "source": [
    "#test size= 0.2, shuffle= True\n",
    "dt = DecisionTreeRegressor(criterion= 'squared_error', max_depth= 10, random_state= seed)\n",
    "dt.fit(x_train, y_train)\n",
    "print_score(ridge, x_train, x_test, y_train, y_test)\n",
    "shuffle_predict_plot(dt, x_test, y_test, test_time)"
   ]
  },
  {
   "cell_type": "code",
   "execution_count": null,
   "id": "d92b3830-bdaa-4f2b-ba14-2ccc44973253",
   "metadata": {},
   "outputs": [],
   "source": [
    "#test size= 0.2, shuffle= False\n",
    "dt = DecisionTreeRegressor(criterion= 'squared_error', max_depth= 10, random_state= seed)\n",
    "dt.fit(x_train, y_train)\n",
    "print_score(ridge, x_train, x_test, y_train, y_test)\n",
    "shuffle_predict_plot(dt, x_test, y_test, test_time)"
   ]
  },
  {
   "cell_type": "markdown",
   "id": "a13800bf-9372-4090-8d59-21b75ba3a6ca",
   "metadata": {},
   "source": [
    "### Hyperparameter fine tuning for XGBRegressor\n",
    "主要針對 learning_rate、n_estimators、max_depth、和 reg:pseudohubererror，做調整"
   ]
  },
  {
   "cell_type": "markdown",
   "id": "7402a3b3-934d-4285-af44-8e32a74e1901",
   "metadata": {},
   "source": [
    "#### RandomizedSearch"
   ]
  },
  {
   "cell_type": "code",
   "execution_count": null,
   "id": "088eaf48-104c-420b-8cdb-d85b36d9daae",
   "metadata": {},
   "outputs": [],
   "source": [
    "distributions = {\n",
    "                 'learning_rate' : uniform(loc= 0.1, scale= 0.9),\n",
    "                 'n_estimators' : randint(100, 200),\n",
    "                 'max_depth' : randint(10, 30),\n",
    "                    }\n",
    "mape_score = make_scorer(mape, greater_is_better= False)\n",
    "xgb = XGBRegressor(objective= 'reg:squarederror', seed= seed)\n",
    "xgb_search = RandomizedSearchCV(xgb, param_distributions= distributions, cv= 10, scoring= mape_score, n_jobs= 10, random_state= seed)\n",
    "search = xgb_search.fit(x_train, y_train)"
   ]
  },
  {
   "cell_type": "code",
   "execution_count": null,
   "id": "1da7de34-1f1e-4654-97c3-9095ce7249c1",
   "metadata": {},
   "outputs": [],
   "source": [
    "search.best_estimator_"
   ]
  },
  {
   "cell_type": "code",
   "execution_count": null,
   "id": "3a62f936-325e-4704-aee8-07594fba0930",
   "metadata": {
    "scrolled": true,
    "tags": []
   },
   "outputs": [],
   "source": [
    "search.cv_results_"
   ]
  },
  {
   "cell_type": "code",
   "execution_count": null,
   "id": "85a3ea11-1805-430e-8c8a-29101d10b820",
   "metadata": {},
   "outputs": [],
   "source": [
    "rfreg = RandomForestRegressor(n_estimators= 100, criterion= 'squared_error', max_depth= 10, n_jobs= 20, random_state= seed)\n",
    "rfreg.fit(x_train, y_train)\n",
    "print_score(rmreg, x_train, x_test, y_train, y_test)\n",
    "#predict_plot(rmreg, x_train, x_test, y_train, y_test, train_time, test_time)"
   ]
  },
  {
   "cell_type": "code",
   "execution_count": null,
   "id": "f39591c6-faac-49ba-9b71-1a84cc374630",
   "metadata": {},
   "outputs": [],
   "source": [
    "distributions = {\n",
    "                    'n_estimators' : randint(100, 500),\n",
    "                    'criterion' : ['squared_error', 'absolute_error', 'poisson'],\n",
    "                    'max_depth' : randint(10, 50),\n",
    "}\n",
    "rfreg = RandomForestRegressor(random_state= seed)\n",
    "rfreg_search = RandomizedSearchCV(rfreg, param_distributions= distributions, cv= 10, scoring= mape_score, n_jobs= 10, random_state= seed)\n",
    "search = rfreg_search.fit(x_train, y_train)"
   ]
  },
  {
   "cell_type": "code",
   "execution_count": null,
   "id": "a9f12aab-e53e-41fc-aacc-dea6bc7cd2db",
   "metadata": {},
   "outputs": [],
   "source": [
    "search.best_estimator_"
   ]
  },
  {
   "cell_type": "code",
   "execution_count": null,
   "id": "b7756bd5-b1ea-4923-9800-6f9f1c2a4926",
   "metadata": {},
   "outputs": [],
   "source": [
    "search.cv_results_"
   ]
  },
  {
   "cell_type": "markdown",
   "id": "d5cae507-ae96-475b-b97c-b5fe278586eb",
   "metadata": {},
   "source": [
    "#### GridSearch"
   ]
  },
  {
   "cell_type": "code",
   "execution_count": null,
   "id": "de8c7fd2-acc9-4138-90a7-0651c21839e0",
   "metadata": {},
   "outputs": [],
   "source": [
    "param_grid = {\n",
    "            'learning_rate' : [0.27, 0.28, 0.29],\n",
    "            'n_estimators' : [181, 182, 183],\n",
    "            'max_depth' : [19, 20, 21]\n",
    "}\n",
    "\n",
    "grid_search = GridSearchCV(xgb, param_grid, cv= 10, n_jobs= 10, scoring= mape_score)\n",
    "search = grid_search.fit(x_train, y_train)"
   ]
  },
  {
   "cell_type": "code",
   "execution_count": null,
   "id": "e567ff96-dd1f-444f-82db-cc8374417cc4",
   "metadata": {},
   "outputs": [],
   "source": [
    "search.best_estimator_"
   ]
  },
  {
   "cell_type": "code",
   "execution_count": null,
   "id": "501d0aa2-01fe-4f21-9680-2b25bc22cb61",
   "metadata": {
    "scrolled": true,
    "tags": []
   },
   "outputs": [],
   "source": [
    "search.cv_results_"
   ]
  },
  {
   "cell_type": "code",
   "execution_count": null,
   "id": "37170e44-cc65-4ad3-a9b9-e8d048d8a092",
   "metadata": {},
   "outputs": [],
   "source": [
    "xgb = XGBRegressor(learning_rate= 0.28, n_estimators= 182, max_depth= 10, objective= 'reg:squarederror', n_jobs= 20, seed= seed)\n",
    "xgb.fit(x_train, y_train)\n",
    "print_score(xgb, x_train, x_test, y_train, y_test)\n",
    "shuffle_predict_plot(xgb, x_test, y_test, test_time)"
   ]
  },
  {
   "cell_type": "markdown",
   "id": "57552c9f-6fa0-45e6-a4ea-1afdebb498a0",
   "metadata": {},
   "source": [
    "### Ensemble learning\n",
    "使用 MAPE 當成每個預測結果的權重"
   ]
  },
  {
   "cell_type": "code",
   "execution_count": null,
   "id": "cf334eb1-d3d6-40c3-a0e6-7d2bec656e51",
   "metadata": {},
   "outputs": [],
   "source": [
    "xgb_bag = BaggingRegressor(base_estimator= XGBRegressor(learning_rate= 0.28, n_estimators= 10, max_depth= 10, objective= 'reg:squarederror', n_jobs= 20, seed= seed), n_estimators= 100, max_features= 0.2, bootstrap= True, n_jobs= 10)\n",
    "xgb_bag.fit(x_train, y_train)\n",
    "print_score(xgb_bag, x_train, x_test, y_train, y_test)\n",
    "shuffle_predict_plot(xgb_bag, x_test, y_test, test_time)"
   ]
  },
  {
   "cell_type": "code",
   "execution_count": null,
   "id": "16a640f7-940f-4d83-8793-0d268f52f2e7",
   "metadata": {},
   "outputs": [],
   "source": [
    "predict_plot(xgb_bag, plot_x, plot_y, plot_time)"
   ]
  },
  {
   "cell_type": "code",
   "execution_count": null,
   "id": "23523a98-1c5b-44f9-8154-87bfe1da3f87",
   "metadata": {},
   "outputs": [],
   "source": [
    "svr_bag = BaggingRegressor(base_estimator= SVR(kernel= 'rbf', gamma= 'auto' ,C= 1, epsilon= 0.1, cache_size= 1000, max_iter= 50000), n_estimators= 100, max_features= 0.2, bootstrap= True, n_jobs= 20)\n",
    "svr_bag.fit(x_train, y_train)\n",
    "print_score(svr_bag, x_train, x_test, y_train, y_test)\n",
    "shuffle_predict_plot(svr_bag, x_test, y_test, test_time)"
   ]
  },
  {
   "cell_type": "code",
   "execution_count": null,
   "id": "9c8fc1a7-bdc6-4e3a-b7a5-e80b2778cc02",
   "metadata": {},
   "outputs": [],
   "source": [
    "rf_bag = BaggingRegressor(base_estimator= RandomForestRegressor(criterion= 'squared_error', max_depth= 10, n_jobs= 20, random_state= seed), n_estimators= 100, max_features= 0.2, bootstrap= True, n_jobs= 10)\n",
    "rf_bag.fit(x_train, y_train)\n",
    "print_score(rf_bag, x_train, x_test, y_train, y_test)\n",
    "shuffle_predict_plot(rf_bag, x_test, y_test, test_time)"
   ]
  },
  {
   "cell_type": "code",
   "execution_count": null,
   "id": "23d9666e-b43d-46f7-9f51-b07e5e891397",
   "metadata": {},
   "outputs": [],
   "source": [
    "predict_plot(rf_bag, plot_x, plot_y, plot_time)"
   ]
  },
  {
   "cell_type": "code",
   "execution_count": null,
   "id": "98404b6b-3e41-4374-a781-6f907cc5f64f",
   "metadata": {},
   "outputs": [],
   "source": [
    "# ensemble average\n",
    "estimators = [\n",
    "    ('xgb', xgb),\n",
    "    ('rfreg', rfreg)\n",
    "]\n",
    "reg = VotingRegressor(estimators= estimators, n_jobs= 10)\n",
    "reg.fit(x_train, y_train)\n",
    "print_score(reg, x_train, x_test, y_train, y_test)\n",
    "shuffle_predict_plot(reg, x_test, y_test, test_time)"
   ]
  },
  {
   "cell_type": "code",
   "execution_count": null,
   "id": "0bc23e2e-1850-42bc-ad5c-2de2e5cadcbc",
   "metadata": {},
   "outputs": [],
   "source": [
    "predict_plot(reg, plot_x, plot_y, plot_time)"
   ]
  },
  {
   "cell_type": "code",
   "execution_count": null,
   "id": "b70a728b-5a48-410d-a30a-c2640d0c1c87",
   "metadata": {},
   "outputs": [],
   "source": [
    "def ensemble_weight(model1, model2, x, y):\n",
    "    pred1 = model1.predict(x)\n",
    "    pred2 = model2.predict(x)\n",
    "    w1 = 1 / mape(y, pred1)\n",
    "    w2 = 1 / mape(y, pred2)\n",
    "    return w1, w2"
   ]
  },
  {
   "cell_type": "code",
   "execution_count": null,
   "id": "ddb7a2aa-0adc-404d-a084-f6fd3ee133ac",
   "metadata": {},
   "outputs": [],
   "source": [
    "def ensemble_output(model1, model2, x, w1, w2):\n",
    "    pred1 = model1.predict(x)\n",
    "    pred2 = model2.predict(x)\n",
    "    return (w1 /( w1 + w2)) * pred1 + (w2/ (w1 + w2)) * pred2"
   ]
  },
  {
   "cell_type": "code",
   "execution_count": null,
   "id": "80cd5ad6-8b62-4715-988f-12d0794b699c",
   "metadata": {},
   "outputs": [],
   "source": [
    "# ensemble weighted average\n",
    "w1, w2 = ensemble_weight(xgb, rfreg, x_train, y_train)\n",
    "train_ensemble = ensemble_output(xgb, rfreg, x_train, w1, w2)\n",
    "test_ensemble = ensemble_output(xgb, rfreg, x_test, w1, w2)\n",
    "\n",
    "train_mse = mean_squared_error(y_train, train_ensemble)\n",
    "test_mse = mean_squared_error(y_test, test_ensemble)\n",
    "\n",
    "train_mae = mean_absolute_error(y_train, train_ensemble)\n",
    "test_mae = mean_absolute_error(y_test, test_ensemble)\n",
    "\n",
    "train_mape = mape(y_train, train_ensemble)\n",
    "test_mape = mape(y_test, test_ensemble)\n",
    "\n",
    "train_smape = smape(y_train, train_ensemble)\n",
    "test_smape = smape(y_test, test_ensemble)\n",
    "\n",
    "train_r2 = r2_score(y_train, train_ensemble)\n",
    "test_r2 = r2_score(y_test, test_ensemble)\n",
    "\n",
    "print(f'train/test MSE {train_mse:.9f}/{test_mse:.9f}')\n",
    "print(f'train/test MAE {train_mae:.9f}/{test_mae:.9f}')\n",
    "print(f'train/test MAPE {train_mape:.9f}/{test_mape:.9f}')    \n",
    "print(f'train/test SMAPE {train_smape:.9f}/{test_smape:.9f}')\n",
    "print(f'train/test r2_squared {train_r2:.9f}/{test_r2:.9f}\\n')"
   ]
  },
  {
   "cell_type": "code",
   "execution_count": null,
   "id": "b0dca5db-1568-4063-817b-2a9a88983db2",
   "metadata": {
    "tags": []
   },
   "outputs": [],
   "source": [
    "# ensemble by MLP\n",
    "estimators = [\n",
    "    ('xgb', xgb),\n",
    "    ('rfreg', rfreg)\n",
    "]\n",
    "y_train = np.ravel(y_train)\n",
    "clf = StackingRegressor(estimators= estimators, final_estimator= MLPRegressor(activation= 'relu', alpha= 0.1, hidden_layer_sizes= (4,2), learning_rate= 'constant', learning_rate_init= 1e-3, solver= 'adam', max_iter= 2000, random_state= seed), n_jobs=10)\n",
    "clf.fit(x_train, y_train)\n",
    "\n",
    "print_score(clf, x_train, x_test, y_train, y_test)\n",
    "shuffle_predict_plot(clf, x_test, y_test, test_time)"
   ]
  },
  {
   "cell_type": "code",
   "execution_count": null,
   "id": "168f51cf-5c1e-41bb-b298-6fe882fe9358",
   "metadata": {},
   "outputs": [],
   "source": [
    "predict_plot(clf, plot_x, plot_y, plot_time)"
   ]
  },
  {
   "cell_type": "code",
   "execution_count": null,
   "id": "fb8dde71-a574-4d6d-8799-f7df65449589",
   "metadata": {},
   "outputs": [],
   "source": [
    "# ensemble average xgb and svr\n",
    "estimators = [\n",
    "    ('xgb', xgb),\n",
    "    ('svr', svr)\n",
    "]\n",
    "reg = VotingRegressor(estimators= estimators, n_jobs= 10)\n",
    "reg.fit(x_train, y_train)\n",
    "print_score(reg, x_train, x_test, y_train, y_test)\n",
    "shuffle_predict_plot(reg, x_test, y_test, test_time)"
   ]
  },
  {
   "cell_type": "code",
   "execution_count": null,
   "id": "6ea6a859-3f06-4cd2-a683-ddd049707897",
   "metadata": {},
   "outputs": [],
   "source": [
    "w1, w2 = ensemble_weight(xgb, svr, x_train, y_train)\n",
    "train_ensemble = ensemble_output(xgb, svr, x_train, w1, w2)\n",
    "test_ensemble = ensemble_output(xgb, svr, x_test, w1, w2)\n",
    "\n",
    "train_mse = mean_squared_error(y_train, train_ensemble)\n",
    "test_mse = mean_squared_error(y_test, test_ensemble)\n",
    "\n",
    "train_mae = mean_absolute_error(y_train, train_ensemble)\n",
    "test_mae = mean_absolute_error(y_test, test_ensemble)\n",
    "\n",
    "train_mape = mape(y_train, train_ensemble)\n",
    "test_mape = mape(y_test, test_ensemble)\n",
    "\n",
    "train_smape = smape(y_train, train_ensemble)\n",
    "test_smape = smape(y_test, test_ensemble)\n",
    "\n",
    "train_r2 = r2_score(y_train, train_ensemble)\n",
    "test_r2 = r2_score(y_test, test_ensemble)\n",
    "\n",
    "print(f'train/test MSE {train_mse:.9f}/{test_mse:.9f}')\n",
    "print(f'train/test MAE {train_mae:.9f}/{test_mae:.9f}')\n",
    "print(f'train/test MAPE {train_mape:.9f}/{test_mape:.9f}')    \n",
    "print(f'train/test SMAPE {train_smape:.9f}/{test_smape:.9f}')\n",
    "print(f'train/test r2_squared {train_r2:.9f}/{test_r2:.9f}\\n')"
   ]
  },
  {
   "cell_type": "code",
   "execution_count": null,
   "id": "911842dc-e19f-4f6c-b518-534aa6ae3200",
   "metadata": {},
   "outputs": [],
   "source": [
    "# ensemble by MLP\n",
    "estimators = [\n",
    "    ('xgb', xgb),\n",
    "    ('rfreg', rfreg)\n",
    "]\n",
    "y_train = np.ravel(y_train)\n",
    "clf = StackingRegressor(estimators= estimators, final_estimator= MLPRegressor(activation= 'relu', alpha= 0.1, hidden_layer_sizes= (4,2), learning_rate= 'constant', learning_rate_init= 1e-3, solver= 'adam', max_iter= 2000, random_state= seed), n_jobs=10)\n",
    "clf.fit(x_train, y_train)\n",
    "\n",
    "print_score(clf, x_train, x_test, y_train, y_test)\n",
    "shuffle_predict_plot(clf, x_test, y_test, test_time)"
   ]
  },
  {
   "cell_type": "code",
   "execution_count": null,
   "id": "0457b528-a1a2-4c24-8d8e-ba0c97416dff",
   "metadata": {},
   "outputs": [],
   "source": [
    "#ensemble average xgb and bayesreg\n",
    "estimators = [\n",
    "    ('xgb', xgb),\n",
    "    ('bayesreg', bayesreg)\n",
    "]\n",
    "reg = VotingRegressor(estimators= estimators, n_jobs= 10)\n",
    "reg.fit(x_train, y_train)\n",
    "print_score(reg, x_train, x_test, y_train, y_test)\n",
    "shuffle_predict_plot(reg, x_test, y_test, test_time)"
   ]
  },
  {
   "cell_type": "code",
   "execution_count": null,
   "id": "f948bfba-83f3-434b-8c12-b1869713b583",
   "metadata": {},
   "outputs": [],
   "source": [
    "w1, w2 = ensemble_weight(xgb, svr, x_train, y_train)\n",
    "train_ensemble = ensemble_output(xgb, bayesreg, x_train, w1, w2)\n",
    "test_ensemble = ensemble_output(xgb, bayesreg, x_test, w1, w2)\n",
    "\n",
    "train_mse = mean_squared_error(y_train, train_ensemble)\n",
    "test_mse = mean_squared_error(y_test, test_ensemble)\n",
    "\n",
    "train_mae = mean_absolute_error(y_train, train_ensemble)\n",
    "test_mae = mean_absolute_error(y_test, test_ensemble)\n",
    "\n",
    "train_mape = mape(y_train, train_ensemble)\n",
    "test_mape = mape(y_test, test_ensemble)\n",
    "\n",
    "train_smape = smape(y_train, train_ensemble)\n",
    "test_smape = smape(y_test, test_ensemble)\n",
    "\n",
    "train_r2 = r2_score(y_train, train_ensemble)\n",
    "test_r2 = r2_score(y_test, test_ensemble)\n",
    "\n",
    "print(f'train/test MSE {train_mse:.9f}/{test_mse:.9f}')\n",
    "print(f'train/test MAE {train_mae:.9f}/{test_mae:.9f}')\n",
    "print(f'train/test MAPE {train_mape:.9f}/{test_mape:.9f}')    \n",
    "print(f'train/test SMAPE {train_smape:.9f}/{test_smape:.9f}')\n",
    "print(f'train/test r2_squared {train_r2:.9f}/{test_r2:.9f}\\n')"
   ]
  },
  {
   "cell_type": "code",
   "execution_count": null,
   "id": "029efbbb-5e7f-4924-b181-a6c34a46b233",
   "metadata": {},
   "outputs": [],
   "source": [
    "# ensemble by MLP\n",
    "estimators = [\n",
    "    ('xgb', xgb),\n",
    "    ('bayesreg', bayesreg)\n",
    "]\n",
    "y_train = np.ravel(y_train)\n",
    "clf = StackingRegressor(estimators= estimators, final_estimator= MLPRegressor(activation= 'relu', alpha= 0.1, hidden_layer_sizes= (4,2), learning_rate= 'constant', learning_rate_init= 1e-3, solver= 'adam', max_iter= 2000, random_state= seed), n_jobs=10)\n",
    "clf.fit(x_train, y_train)\n",
    "\n",
    "print_score(clf, x_train, x_test, y_train, y_test)\n",
    "shuffle_predict_plot(clf, x_test, y_test, test_time)"
   ]
  }
 ],
 "metadata": {
  "kernelspec": {
   "display_name": "Python 3 (ipykernel)",
   "language": "python",
   "name": "python3"
  },
  "language_info": {
   "codemirror_mode": {
    "name": "ipython",
    "version": 3
   },
   "file_extension": ".py",
   "mimetype": "text/x-python",
   "name": "python",
   "nbconvert_exporter": "python",
   "pygments_lexer": "ipython3",
   "version": "3.8.13"
  }
 },
 "nbformat": 4,
 "nbformat_minor": 5
}
